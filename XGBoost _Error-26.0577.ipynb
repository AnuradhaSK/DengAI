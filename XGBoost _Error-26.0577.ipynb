{
  "nbformat": 4,
  "nbformat_minor": 0,
  "metadata": {
    "colab": {
      "name": "test.ipynb",
      "version": "0.3.2",
      "provenance": []
    },
    "kernelspec": {
      "name": "python2",
      "display_name": "Python 2"
    }
  },
  "cells": [
    {
      "cell_type": "code",
      "metadata": {
        "id": "nQoeqtqm7V_l",
        "colab_type": "code",
        "colab": {}
      },
      "source": [
        "import pandas as pd\n",
        "from sklearn.linear_model import LinearRegression\n",
        "import numpy as np\n",
        "\n",
        "import matplotlib.pyplot as plt\n",
        "import seaborn as sns\n",
        "%matplotlib inline\n",
        "plt.style.use('bmh')\n",
        "\n",
        "from sklearn.preprocessing import StandardScaler\n",
        "from sklearn.linear_model import LinearRegression, LogisticRegression\n",
        "from sklearn.ensemble import RandomForestRegressor, RandomForestClassifier\n",
        "from sklearn.model_selection import GridSearchCV\n",
        "\n",
        "from sklearn.metrics import mean_absolute_error"
      ],
      "execution_count": 0,
      "outputs": []
    },
    {
      "cell_type": "code",
      "metadata": {
        "id": "u6nWV7C57lmO",
        "colab_type": "code",
        "outputId": "30a26f62-ee47-4f39-e315-b73752b0dfc5",
        "colab": {
          "base_uri": "https://localhost:8080/",
          "height": 364
        }
      },
      "source": [
        "train_features = pd.read_csv('https://s3.amazonaws.com/drivendata/data/44/public/dengue_features_train.csv',\n",
        "                            parse_dates=[3])\n",
        "\n",
        "test_features = pd.read_csv('https://s3.amazonaws.com/drivendata/data/44/public/dengue_features_test.csv',\n",
        "                           parse_dates=[3])\n",
        "df = pd.concat([train_features, test_features], axis = 0)\n",
        "\n",
        "\n",
        "df_sj = df[df['city'] == 'sj']\n",
        "df_iq = df[df['city'] == 'iq']\n",
        "\n",
        "\n",
        "total_cases = pd.read_csv('https://s3.amazonaws.com/drivendata/data/44/public/dengue_labels_train.csv')\n",
        "sj_cases = total_cases[total_cases['city'] == 'sj']['total_cases']\n",
        "iq_cases = total_cases[total_cases['city'] == 'iq']['total_cases']\n",
        "\n",
        "\n",
        "df_sj.set_index('week_start_date', drop = True, inplace = True)\n",
        "df_iq.set_index('week_start_date', drop = True, inplace = True)\n",
        "\n",
        "\n",
        "df_sj.drop(['city', 'year'], axis = 1, inplace = True)\n",
        "df_iq.drop(['city', 'year'], axis = 1, inplace = True)\n",
        "\n",
        "df_sj.index\n",
        "\n",
        "# create month variable\n",
        "df_sj['month'] = df_sj.index.month\n",
        "df_iq['month'] = df_iq.index.month\n",
        "\n",
        "# create mean ndvi\n",
        "df_sj['ndvi_mean'] = (df_sj['ndvi_ne'] + df_sj['ndvi_nw'] + df_sj['ndvi_se'] + df_sj['ndvi_sw']) / 4.0\n",
        "df_iq['ndvi_mean'] = (df_iq['ndvi_ne'] + df_iq['ndvi_nw'] + df_iq['ndvi_se'] + df_iq['ndvi_sw']) / 4.0"
      ],
      "execution_count": 19,
      "outputs": [
        {
          "output_type": "stream",
          "text": [
            "/usr/local/lib/python2.7/dist-packages/ipykernel_launcher.py:28: SettingWithCopyWarning: \n",
            "A value is trying to be set on a copy of a slice from a DataFrame.\n",
            "Try using .loc[row_indexer,col_indexer] = value instead\n",
            "\n",
            "See the caveats in the documentation: http://pandas.pydata.org/pandas-docs/stable/indexing.html#indexing-view-versus-copy\n",
            "/usr/local/lib/python2.7/dist-packages/ipykernel_launcher.py:29: SettingWithCopyWarning: \n",
            "A value is trying to be set on a copy of a slice from a DataFrame.\n",
            "Try using .loc[row_indexer,col_indexer] = value instead\n",
            "\n",
            "See the caveats in the documentation: http://pandas.pydata.org/pandas-docs/stable/indexing.html#indexing-view-versus-copy\n",
            "/usr/local/lib/python2.7/dist-packages/ipykernel_launcher.py:32: SettingWithCopyWarning: \n",
            "A value is trying to be set on a copy of a slice from a DataFrame.\n",
            "Try using .loc[row_indexer,col_indexer] = value instead\n",
            "\n",
            "See the caveats in the documentation: http://pandas.pydata.org/pandas-docs/stable/indexing.html#indexing-view-versus-copy\n",
            "/usr/local/lib/python2.7/dist-packages/ipykernel_launcher.py:33: SettingWithCopyWarning: \n",
            "A value is trying to be set on a copy of a slice from a DataFrame.\n",
            "Try using .loc[row_indexer,col_indexer] = value instead\n",
            "\n",
            "See the caveats in the documentation: http://pandas.pydata.org/pandas-docs/stable/indexing.html#indexing-view-versus-copy\n"
          ],
          "name": "stderr"
        }
      ]
    },
    {
      "cell_type": "code",
      "metadata": {
        "id": "JvmTDaWP8dJk",
        "colab_type": "code",
        "outputId": "dc449772-75c0-418d-b7f9-a747164cc351",
        "colab": {
          "base_uri": "https://localhost:8080/",
          "height": 69
        }
      },
      "source": [
        "\n",
        "\n",
        "# train test split\n",
        "#sj\n",
        "\n",
        "# choose split dates\n",
        "sj_valid_split = '2003-4-20'\n",
        "sj_test_split = '2008-4-27' # this will split between pre and post submission dates\n",
        "\n",
        "# split into train, valid, test (no y)\n",
        "sj_train = df_sj.loc[:sj_valid_split]\n",
        "sj_Xtrain = sj_train\n",
        "sj_ytrain = sj_cases[:len(sj_train)]\n",
        "\n",
        "sj_valid = df_sj.loc[sj_valid_split : sj_test_split]\n",
        "sj_Xvalid = sj_valid\n",
        "sj_yvalid = sj_cases[len(sj_train):]\n",
        "\n",
        "sj_test = df_sj.loc[sj_test_split:]\n",
        "sj_Xtest = sj_test\n",
        "\n",
        "print len(sj_train), len(sj_Xtrain), len(sj_ytrain)\n",
        "print len(sj_valid), len(sj_Xvalid), len(sj_yvalid)\n",
        "print len(sj_test), len(sj_Xtest)\n",
        "\n"
      ],
      "execution_count": 20,
      "outputs": [
        {
          "output_type": "stream",
          "text": [
            "675 675 675\n",
            "261 261 261\n",
            "260 260\n"
          ],
          "name": "stdout"
        }
      ]
    },
    {
      "cell_type": "code",
      "metadata": {
        "id": "GcxxKP2vqQgz",
        "colab_type": "code",
        "outputId": "4c862031-40c9-4682-ac3c-7c8d799021b0",
        "colab": {
          "base_uri": "https://localhost:8080/",
          "height": 69
        }
      },
      "source": [
        "\n",
        "\n",
        "#iq\n",
        "\n",
        "# choose split dates\n",
        "iq_valid_split = '2007-7-01'\n",
        "iq_test_split = '2010-7-01' # this will split between pre and post submission dates\n",
        "\n",
        "# split\n",
        "iq_train = df_iq.loc[:iq_valid_split]\n",
        "iq_trainX = iq_train\n",
        "iq_trainY = iq_cases[:len(iq_trainX)]\n",
        "\n",
        "iq_valid = df_iq.loc[iq_valid_split : iq_test_split]\n",
        "iq_Xvalid = iq_valid\n",
        "iq_yvalid = iq_cases[len(iq_train):]\n",
        "\n",
        "iq_test = df_iq.loc[iq_test_split:]\n",
        "iq_Xtest = iq_test\n",
        "\n",
        "# check the lengths\n",
        "print len(iq_train), len(iq_trainX), len(iq_trainY)\n",
        "print len(iq_valid), len(iq_Xvalid), len(iq_yvalid)\n",
        "print len(iq_test), len(iq_Xtest)\n",
        "\n"
      ],
      "execution_count": 21,
      "outputs": [
        {
          "output_type": "stream",
          "text": [
            "364 364 364\n",
            "156 156 156\n",
            "156 156\n"
          ],
          "name": "stdout"
        }
      ]
    },
    {
      "cell_type": "code",
      "metadata": {
        "id": "rvL7_3chqWFa",
        "colab_type": "code",
        "colab": {}
      },
      "source": [
        "\n",
        "\n",
        "from xgboost.sklearn import XGBRegressor\n",
        "from sklearn.model_selection import GridSearchCV\n",
        "\n"
      ],
      "execution_count": 0,
      "outputs": []
    },
    {
      "cell_type": "code",
      "metadata": {
        "id": "zQutlMTEqt7u",
        "colab_type": "code",
        "colab": {}
      },
      "source": [
        "#set up training data\n",
        "months = pd.get_dummies(sj_Xtrain['month'], prefix='month')\n",
        "weather = sj_Xtrain.drop(['month', 'weekofyear'], axis = 1)\n",
        "weather2 = weather.rolling(window = 53, min_periods=1).mean()\n",
        "weather2.columns = [str(i) + '_2' for i in weather2.columns]\n",
        "train = pd.concat([months, weather, weather2], axis = 1)"
      ],
      "execution_count": 0,
      "outputs": []
    },
    {
      "cell_type": "code",
      "metadata": {
        "id": "QPzsazJmqw2q",
        "colab_type": "code",
        "outputId": "1a841770-dc8e-42de-9ae6-042317e53b2a",
        "colab": {
          "base_uri": "https://localhost:8080/",
          "height": 191
        }
      },
      "source": [
        "# grid search for best fit\n",
        "\n",
        "params = {  \n",
        "    \"booster\" : ('gblinear', 'gbtree'), \n",
        "    \"n_estimators\": [10, 200],\n",
        "    \"max_depth\": [12, 15],\n",
        "    \"learning_rate\": np.linspace(0.05, 0.3, 4),\n",
        "    \"min_child_weight\": (4, 6)\n",
        "}\n",
        "\n",
        "xgbreg = XGBRegressor()\n",
        "\n",
        "gs = GridSearchCV(xgbreg, params, n_jobs=1, verbose = 1)  \n",
        "gs.fit(train, sj_ytrain)  \n",
        "gs.best_estimator_"
      ],
      "execution_count": 24,
      "outputs": [
        {
          "output_type": "stream",
          "text": [
            "Fitting 3 folds for each of 64 candidates, totalling 192 fits\n"
          ],
          "name": "stdout"
        },
        {
          "output_type": "stream",
          "text": [
            "[Parallel(n_jobs=1)]: Using backend SequentialBackend with 1 concurrent workers.\n",
            "[Parallel(n_jobs=1)]: Done 192 out of 192 | elapsed:  1.5min finished\n"
          ],
          "name": "stderr"
        },
        {
          "output_type": "execute_result",
          "data": {
            "text/plain": [
              "XGBRegressor(base_score=0.5, booster='gbtree', colsample_bylevel=1,\n",
              "       colsample_bytree=1, gamma=0, importance_type='gain',\n",
              "       learning_rate=0.05, max_delta_step=0, max_depth=12,\n",
              "       min_child_weight=6, missing=None, n_estimators=10, n_jobs=1,\n",
              "       nthread=None, objective='reg:linear', random_state=0, reg_alpha=0,\n",
              "       reg_lambda=1, scale_pos_weight=1, seed=None, silent=True,\n",
              "       subsample=1)"
            ]
          },
          "metadata": {
            "tags": []
          },
          "execution_count": 24
        }
      ]
    },
    {
      "cell_type": "code",
      "metadata": {
        "id": "GhEYyUDHq08H",
        "colab_type": "code",
        "outputId": "5a9ea817-800c-4171-ea58-734591edd68b",
        "colab": {
          "base_uri": "https://localhost:8080/",
          "height": 297
        }
      },
      "source": [
        "months = pd.get_dummies(sj_Xvalid['month'], prefix='month')\n",
        "weather = sj_Xvalid.drop(['month', 'weekofyear'], axis = 1)\n",
        "weather2 = weather.rolling(window = 53, min_periods=1).mean()\n",
        "weather2.columns = [str(i) + '_2' for i in weather2.columns]\n",
        "valid = pd.concat([months, weather, weather2], axis = 1)\n",
        "\n",
        "# make and plot predictions, scores\n",
        "preds = pd.Series(gs.predict(valid))\n",
        "# preds = preds.rolling(2, min_periods=1, center = True).mean()\n",
        "plt.plot(sj_yvalid.values, alpha = .75)\n",
        "plt.plot(preds)\n",
        "print mean_absolute_error(preds, sj_yvalid.values)\n",
        "print gs.score(valid, sj_yvalid)"
      ],
      "execution_count": 25,
      "outputs": [
        {
          "output_type": "stream",
          "text": [
            "17.729921049541897\n",
            "0.05543821948553607\n"
          ],
          "name": "stdout"
        },
        {
          "output_type": "display_data",
          "data": {
            "image/png": "[encoded data removed]",
            "text/plain": [
              "<Figure size 432x288 with 1 Axes>"
            ]
          },
          "metadata": {
            "tags": []
          }
        }
      ]
    },
    {
      "cell_type": "code",
      "metadata": {
        "id": "174yD_h7q5Vl",
        "colab_type": "code",
        "outputId": "11d67e67-b5d2-47f5-a5df-309c3cc6e231",
        "colab": {
          "base_uri": "https://localhost:8080/",
          "height": 331
        }
      },
      "source": [
        "#set up training data\n",
        "sj_Xtrain2 = pd.concat([sj_Xtrain, sj_Xvalid], axis = 0)\n",
        "sj_ytrain2 = pd.concat([sj_ytrain, sj_yvalid], axis = 0)\n",
        "months = pd.get_dummies(sj_Xtrain2['month'], prefix='month')\n",
        "weather = sj_Xtrain2.drop(['month', 'weekofyear'], axis = 1)\n",
        "weather2 = weather.rolling(window = 53, min_periods=1).mean()\n",
        "weather2.columns = [str(i) + '_2' for i in weather2.columns]\n",
        "train = pd.concat([months, weather, weather2], axis = 1)\n",
        "\n",
        "# grid search for best fit\n",
        "\n",
        "params = {  \n",
        "    \"booster\" : ('gblinear', 'gbtree'), \n",
        "    \"n_estimators\": [10, 200],\n",
        "    \"max_depth\": [12, 15],\n",
        "    \"learning_rate\": np.linspace(0.05, 0.3, 4),\n",
        "    \"min_child_weight\": (4, 6)\n",
        "}\n",
        "\n",
        "xgbreg = XGBRegressor()\n",
        "\n",
        "gs = GridSearchCV(xgbreg, params, n_jobs=1, verbose = 1)  \n",
        "gs.fit(train, sj_ytrain2)  \n",
        "gs.best_estimator_\n",
        "\n",
        "months = pd.get_dummies(sj_Xtest['month'], prefix='month')\n",
        "weather = sj_Xtest.drop(['month', 'weekofyear'], axis = 1)\n",
        "weather2 = weather.rolling(window = 53, min_periods=1).mean()\n",
        "weather2.columns = [str(i) + '_2' for i in weather2.columns]\n",
        "test = pd.concat([months, weather, weather2], axis = 1)\n",
        "\n",
        "# make predictions\n",
        "sj_cases_predictions = pd.Series(gs.predict(test))\n",
        "sj_cases_predictions = sj_cases_predictions.rolling(3, min_periods=1).mean().apply(lambda x: int(x))\n",
        "\n",
        "# plot\n",
        "plt.plot(sj_cases_predictions)\n",
        "print gs.score(train, sj_ytrain2)"
      ],
      "execution_count": 26,
      "outputs": [
        {
          "output_type": "stream",
          "text": [
            "Fitting 3 folds for each of 64 candidates, totalling 192 fits\n"
          ],
          "name": "stdout"
        },
        {
          "output_type": "stream",
          "text": [
            "[Parallel(n_jobs=1)]: Using backend SequentialBackend with 1 concurrent workers.\n",
            "[Parallel(n_jobs=1)]: Done 192 out of 192 | elapsed:  2.1min finished\n"
          ],
          "name": "stderr"
        },
        {
          "output_type": "stream",
          "text": [
            "0.1721381578661445\n"
          ],
          "name": "stdout"
        },
        {
          "output_type": "display_data",
          "data": {
            "image/png": "[encoded data removed]",
            "text/plain": [
              "<Figure size 432x288 with 1 Axes>"
            ]
          },
          "metadata": {
            "tags": []
          }
        }
      ]
    },
    {
      "cell_type": "code",
      "metadata": {
        "id": "9feqXoyvq-__",
        "colab_type": "code",
        "outputId": "109cd30b-f80b-49ee-9f0f-d06429f3436f",
        "colab": {
          "base_uri": "https://localhost:8080/",
          "height": 386
        }
      },
      "source": [
        "#set up training data\n",
        "iq_trainX2 = pd.concat([iq_trainX, iq_Xvalid], axis = 0)\n",
        "iq_trainY2 = pd.concat([iq_trainY, iq_yvalid], axis = 0)\n",
        "months = pd.get_dummies(iq_trainX2['month'], prefix='month')\n",
        "weather = iq_trainX2.drop(['month', 'weekofyear'], axis = 1)\n",
        "weather2 = weather.rolling(window = 53, min_periods=1).mean()\n",
        "weather2.columns = [str(i) + '_2' for i in weather2.columns]\n",
        "train = pd.concat([months, weather, weather2], axis = 1)\n",
        "\n",
        "# grid search for best fit\n",
        "\n",
        "params = {  \n",
        "    \"booster\" : ('gblinear', 'gbtree'), \n",
        "    \"n_estimators\": [10, 200],\n",
        "    \"max_depth\": [12, 15],\n",
        "    \"learning_rate\": np.linspace(0.05, 0.3, 4),\n",
        "    \"min_child_weight\": (4, 6)\n",
        "}\n",
        "\n",
        "xgbreg = XGBRegressor()\n",
        "\n",
        "gs = GridSearchCV(xgbreg, params, n_jobs=1, verbose = 1)  \n",
        "gs.fit(train, iq_trainY2)  \n",
        "gs.best_estimator_\n",
        "\n",
        "months = pd.get_dummies(iq_Xtest['month'], prefix='month')\n",
        "weather = iq_Xtest.drop(['month', 'weekofyear'], axis = 1)\n",
        "weather2 = weather.rolling(window = 53, min_periods=1).mean()\n",
        "weather2.columns = [str(i) + '_2' for i in weather2.columns]\n",
        "test = pd.concat([months, weather, weather2], axis = 1)\n",
        "\n",
        "# make predictions\n",
        "iq_cases_predictions = pd.Series(gs.predict(test))\n",
        "iq_cases_predictions = iq_cases_predictions.rolling(3, min_periods=1).mean().apply(lambda x: int(x))\n",
        "\n",
        "# plot\n",
        "plt.plot(iq_cases_predictions)\n",
        "print gs.score(train, iq_trainY2)"
      ],
      "execution_count": 27,
      "outputs": [
        {
          "output_type": "stream",
          "text": [
            "Fitting 3 folds for each of 64 candidates, totalling 192 fits\n"
          ],
          "name": "stdout"
        },
        {
          "output_type": "stream",
          "text": [
            "[Parallel(n_jobs=1)]: Using backend SequentialBackend with 1 concurrent workers.\n",
            "[Parallel(n_jobs=1)]: Done 192 out of 192 | elapsed:  1.2min finished\n",
            "/usr/local/lib/python2.7/dist-packages/sklearn/model_selection/_search.py:841: DeprecationWarning: The default of the `iid` parameter will change from True to False in version 0.22 and will be removed in 0.24. This will change numeric results when test-set sizes are unequal.\n",
            "  DeprecationWarning)\n"
          ],
          "name": "stderr"
        },
        {
          "output_type": "stream",
          "text": [
            "0.0790090871752127\n"
          ],
          "name": "stdout"
        },
        {
          "output_type": "display_data",
          "data": {
            "image/png": "[encoded data removed]",
            "text/plain": [
              "<Figure size 432x288 with 1 Axes>"
            ]
          },
          "metadata": {
            "tags": []
          }
        }
      ]
    },
    {
      "cell_type": "code",
      "metadata": {
        "id": "qJGZYeIOzC08",
        "colab_type": "code",
        "outputId": "f0b7acad-348b-4db5-948d-9416945f306e",
        "colab": {
          "base_uri": "https://localhost:8080/",
          "height": 1000
        }
      },
      "source": [
        "sj_cases_predictions = sj_cases_predictions.apply(lambda x: 1 if x < 1 else int(x))\n",
        "iq_cases_predictions = iq_cases_predictions.apply(lambda x: 0 if x < 1 else int(x))\n",
        "total_predictions = list(sj_cases_predictions) + list(iq_cases_predictions)\n",
        "\n",
        "\n",
        "\n",
        "\n",
        "#####\n",
        "submission = pd.read_csv(\"https://s3.amazonaws.com/drivendata/data/44/public/submission_format.csv\",index_col=[0, 1, 2])\n",
        "\n",
        "submission['total_cases'] = total_predictions \n",
        "submission['total_cases'] = submission['total_cases'].apply(lambda x: int(x))\n",
        "\n",
        "print(submission)\n",
        "submission.to_csv(\"attempt1.csv\")\n",
        "from google.colab import files\n",
        "\n",
        "files.download('attempt1.csv')\n",
        "\n"
      ],
      "execution_count": 28,
      "outputs": [
        {
          "output_type": "stream",
          "text": [
            "                      total_cases\n",
            "city year weekofyear             \n",
            "sj   2008 18                    1\n",
            "          19                    1\n",
            "          20                    1\n",
            "          21                   10\n",
            "          22                   31\n",
            "          23                   37\n",
            "          24                   29\n",
            "          25                   22\n",
            "          26                   21\n",
            "          27                   26\n",
            "          28                   32\n",
            "          29                   38\n",
            "          30                   42\n",
            "          31                   46\n",
            "          32                   51\n",
            "          33                   53\n",
            "          34                   57\n",
            "          35                   57\n",
            "          36                   59\n",
            "          37                   57\n",
            "          38                   53\n",
            "          39                   50\n",
            "          40                   42\n",
            "          41                   37\n",
            "          42                   32\n",
            "          43                   31\n",
            "          44                   29\n",
            "          45                   29\n",
            "          46                   29\n",
            "          47                   33\n",
            "...                           ...\n",
            "iq   2012 48                    8\n",
            "          49                    8\n",
            "          50                    8\n",
            "          51                    7\n",
            "     2013 1                     8\n",
            "          2                     7\n",
            "          3                     7\n",
            "          4                     7\n",
            "          5                     8\n",
            "          6                     8\n",
            "          7                     9\n",
            "          8                     9\n",
            "          9                     9\n",
            "          10                    8\n",
            "          11                    7\n",
            "          12                    7\n",
            "          13                    7\n",
            "          14                    8\n",
            "          15                    7\n",
            "          16                    7\n",
            "          17                    7\n",
            "          18                    6\n",
            "          19                    5\n",
            "          20                    5\n",
            "          21                    7\n",
            "          22                    7\n",
            "          23                    6\n",
            "          24                    6\n",
            "          25                    6\n",
            "          26                    6\n",
            "\n",
            "[416 rows x 1 columns]\n"
          ],
          "name": "stdout"
        }
      ]
    },
    {
      "cell_type": "code",
      "metadata": {
        "id": "-qqNjdzjrAOG",
        "colab_type": "code",
        "outputId": "2166fd1e-68b8-4c5e-8a3e-729f9354c9eb",
        "colab": {
          "base_uri": "https://localhost:8080/",
          "height": 238
        }
      },
      "source": [
        "submission.head()"
      ],
      "execution_count": 29,
      "outputs": [
        {
          "output_type": "execute_result",
          "data": {
            "text/html": [
              "<div>\n",
              "<style scoped>\n",
              "    .dataframe tbody tr th:only-of-type {\n",
              "        vertical-align: middle;\n",
              "    }\n",
              "\n",
              "    .dataframe tbody tr th {\n",
              "        vertical-align: top;\n",
              "    }\n",
              "\n",
              "    .dataframe thead th {\n",
              "        text-align: right;\n",
              "    }\n",
              "</style>\n",
              "<table border=\"1\" class=\"dataframe\">\n",
              "  <thead>\n",
              "    <tr style=\"text-align: right;\">\n",
              "      <th></th>\n",
              "      <th></th>\n",
              "      <th></th>\n",
              "      <th>total_cases</th>\n",
              "    </tr>\n",
              "    <tr>\n",
              "      <th>city</th>\n",
              "      <th>year</th>\n",
              "      <th>weekofyear</th>\n",
              "      <th></th>\n",
              "    </tr>\n",
              "  </thead>\n",
              "  <tbody>\n",
              "    <tr>\n",
              "      <th rowspan=\"5\" valign=\"top\">sj</th>\n",
              "      <th rowspan=\"5\" valign=\"top\">2008</th>\n",
              "      <th>18</th>\n",
              "      <td>1</td>\n",
              "    </tr>\n",
              "    <tr>\n",
              "      <th>19</th>\n",
              "      <td>1</td>\n",
              "    </tr>\n",
              "    <tr>\n",
              "      <th>20</th>\n",
              "      <td>1</td>\n",
              "    </tr>\n",
              "    <tr>\n",
              "      <th>21</th>\n",
              "      <td>10</td>\n",
              "    </tr>\n",
              "    <tr>\n",
              "      <th>22</th>\n",
              "      <td>31</td>\n",
              "    </tr>\n",
              "  </tbody>\n",
              "</table>\n",
              "</div>"
            ],
            "text/plain": [
              "                      total_cases\n",
              "city year weekofyear             \n",
              "sj   2008 18                    1\n",
              "          19                    1\n",
              "          20                    1\n",
              "          21                   10\n",
              "          22                   31"
            ]
          },
          "metadata": {
            "tags": []
          },
          "execution_count": 29
        }
      ]
    }
  ]
}