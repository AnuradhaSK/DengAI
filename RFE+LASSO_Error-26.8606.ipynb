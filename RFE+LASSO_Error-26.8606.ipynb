{
  "nbformat": 4,
  "nbformat_minor": 0,
  "metadata": {
    "colab": {
      "name": "RFE+LASSO",
      "version": "0.3.2",
      "provenance": []
    },
    "kernelspec": {
      "name": "python3",
      "display_name": "Python 3"
    },
    "accelerator": "TPU"
  },
  "cells": [
    {
      "cell_type": "code",
      "metadata": {
        "id": "Z977L0U_VczE",
        "colab_type": "code",
        "colab": {}
      },
      "source": [
        "from __future__ import print_function\n",
        "from __future__ import division\n",
        "%matplotlib inline\n",
        "\n",
        "import pandas as pd\n",
        "import numpy as np\n",
        "\n",
        "from matplotlib import pyplot as plt\n",
        "import seaborn as sns\n",
        "\n",
        "from sklearn.model_selection import train_test_split\n",
        "from sklearn.preprocessing import StandardScaler\n",
        "\n",
        "from scipy import stats\n",
        "from sklearn.linear_model import LinearRegression\n",
        "from sklearn import linear_model\n",
        "from sklearn.model_selection import train_test_split\n",
        "\n",
        "from sklearn.metrics import mean_absolute_error\n",
        "from sklearn.metrics import median_absolute_error"
      ],
      "execution_count": 0,
      "outputs": []
    },
    {
      "cell_type": "code",
      "metadata": {
        "id": "kENAGWB4VejW",
        "colab_type": "code",
        "colab": {}
      },
      "source": [
        "train_features = pd.read_csv('https://s3.amazonaws.com/drivendata/data/44/public/dengue_features_train.csv',\n",
        "                             index_col=[0,1,2])\n",
        "train_features.interpolate(inplace=True)\n",
        "train_features.drop('week_start_date', axis=1, inplace=True)\n",
        "scaler = StandardScaler()\n",
        "train_features[train_features.columns] = scaler.fit_transform(train_features)\n",
        "\n",
        "\n",
        "train_labels = pd.read_csv('https://s3.amazonaws.com/drivendata/data/44/public/dengue_labels_train.csv',\n",
        "                           index_col=[0,1,2])"
      ],
      "execution_count": 0,
      "outputs": []
    },
    {
      "cell_type": "code",
      "metadata": {
        "id": "2LsWJZliVhMC",
        "colab_type": "code",
        "colab": {}
      },
      "source": [
        "# Seperate data for San Juan\n",
        "sj_train_features = train_features.loc['sj']\n",
        "sj_train_features.rolling(window=30,min_periods=1)\n",
        "sj_train_labels = train_labels.loc['sj']\n",
        "\n",
        "# Separate data for Iquitos\n",
        "iq_train_features = train_features.loc['iq']\n",
        "iq_train_features.rolling(window=30,min_periods=1)\n",
        "iq_train_labels = train_labels.loc['iq']\n"
      ],
      "execution_count": 0,
      "outputs": []
    },
    {
      "cell_type": "code",
      "metadata": {
        "id": "ksR1HmYmWUDp",
        "colab_type": "code",
        "outputId": "aa0d8bd4-5975-448a-d36c-247a82e69e33",
        "colab": {
          "base_uri": "https://localhost:8080/",
          "height": 141
        }
      },
      "source": [
        "from sklearn.feature_selection import RFE\n",
        "\n",
        "# create a base classifier used to evaluate a subset of attributes\n",
        "model = LinearRegression()\n",
        "\n",
        "# create the RFE model and select n attributes\n",
        "rfe = RFE(model,4)\n",
        "rfe = rfe.fit(sj_train_features, sj_train_labels)\n",
        "X_Select = sj_train_features.loc[:, rfe.support_]\n",
        "print(rfe.support_)\n",
        "\n",
        "# Split based on the newly selected features and train and test again\n",
        "X_train, X_test, Y_train, Y_test = train_test_split(X_Select, sj_train_labels, shuffle = False)\n",
        "model.fit(X_train, Y_train)\n",
        "print(model.score(X_train, Y_train))\n",
        "Y_pred = model.predict(X_test)\n",
        "\n",
        "mean_absolute_error(Y_test, Y_pred)\n",
        "\n"
      ],
      "execution_count": 24,
      "outputs": [
        {
          "output_type": "stream",
          "text": [
            "[False False False False False  True False  True False False False  True\n",
            " False False  True False False False False False]\n",
            "0.03800500000378837\n"
          ],
          "name": "stdout"
        },
        {
          "output_type": "stream",
          "text": [
            "/usr/local/lib/python3.6/dist-packages/sklearn/utils/validation.py:724: DataConversionWarning: A column-vector y was passed when a 1d array was expected. Please change the shape of y to (n_samples, ), for example using ravel().\n",
            "  y = column_or_1d(y, warn=True)\n"
          ],
          "name": "stderr"
        },
        {
          "output_type": "execute_result",
          "data": {
            "text/plain": [
              "24.69597466324993"
            ]
          },
          "metadata": {
            "tags": []
          },
          "execution_count": 24
        }
      ]
    },
    {
      "cell_type": "code",
      "metadata": {
        "id": "ZZuZHlMrbZaH",
        "colab_type": "code",
        "outputId": "13c10a35-cf20-4085-a455-7e725b52678b",
        "colab": {
          "base_uri": "https://localhost:8080/",
          "height": 1000
        }
      },
      "source": [
        "clf = linear_model.Lasso(alpha=0.0001)\n",
        "history =clf.fit(X_train, Y_train)\n",
        "# print(Y_train)\n",
        "print(clf.score(X_train, Y_train))\n",
        "Y_pred = clf.predict(X_test)\n",
        "print(clf.score(X_test, Y_test))\n",
        "mean_absolute_error(Y_test, Y_pred)\n",
        "print(Y_test)\n",
        "print(Y_pred.astype(int))"
      ],
      "execution_count": 25,
      "outputs": [
        {
          "output_type": "stream",
          "text": [
            "0.035594304886770844\n",
            "-0.08669888145714744\n",
            "                 total_cases\n",
            "year weekofyear             \n",
            "2003 44                   39\n",
            "     45                   39\n",
            "     46                   34\n",
            "     47                   30\n",
            "     48                   37\n",
            "     49                   29\n",
            "     50                   26\n",
            "     51                   15\n",
            "     52                   22\n",
            "2004 1                    15\n",
            "     2                    20\n",
            "     3                    14\n",
            "     4                    10\n",
            "     5                    21\n",
            "     6                    14\n",
            "     7                    14\n",
            "     8                     9\n",
            "     9                    11\n",
            "     10                    5\n",
            "     11                    6\n",
            "     12                    7\n",
            "     13                   11\n",
            "     14                    4\n",
            "     15                    3\n",
            "     16                    2\n",
            "     17                    6\n",
            "     18                   10\n",
            "     19                    7\n",
            "     20                    5\n",
            "     21                    3\n",
            "...                      ...\n",
            "2007 40                  170\n",
            "     41                  135\n",
            "     42                  106\n",
            "     43                   68\n",
            "     44                   48\n",
            "     45                   48\n",
            "     46                   26\n",
            "     47                   33\n",
            "     48                   29\n",
            "     49                   17\n",
            "     50                   12\n",
            "     51                   13\n",
            "     52                   17\n",
            "2008 1                    15\n",
            "     2                    14\n",
            "     3                    15\n",
            "     4                    10\n",
            "     5                     9\n",
            "     6                     2\n",
            "     7                     6\n",
            "     8                     8\n",
            "     9                     5\n",
            "     10                    1\n",
            "     11                    2\n",
            "     12                    3\n",
            "     13                    4\n",
            "     14                    3\n",
            "     15                    1\n",
            "     16                    3\n",
            "     17                    5\n",
            "\n",
            "[234 rows x 1 columns]\n",
            "[46 36 48 51 41 41 41 38 34 31 27 30 22 25 24 32 28 25 26 24 29 31 24 19\n",
            " 27 30 36 36 36 43 41 42 44 38 42 46 44 51 43 47 43 46 49 49 46 51 52 48\n",
            " 38 47 42 46 45 41 42 44 36 35 28 39 43 36 29 31 35 19 22  6  8 19 21 12\n",
            "  8 15 31 32 28 31 28 37 36 41 42 48 48 41 44 50 47 48 50 49 48 49 43 41\n",
            " 46 34 49 41 41 48 44 46 52 48 51 46 38 39 27 38 31 38 34 28 32 33 25 30\n",
            " 24 26 24 17 19 24 20 26 29 27 27 27 30 40 42 40 41 46 44 52 45 46 45 46\n",
            " 45 42 49 47 50 45 40 43 40 45 50 44 43 49 46 43 29 40 41 44 41 37 34 24\n",
            " 31 13 30 21 22 27 29 28 29 32 30 25 31 31 40 37 40 40 34 38 46 44 47 41\n",
            " 44 43 45 45 49 49 46 46 44 42 47 38 47 44 44 47 41 47 32 41 37 38 34 36\n",
            " 26 34 33 19 34 18 24 27 31 26 24 26  8 14 25 25 20 19]\n"
          ],
          "name": "stdout"
        },
        {
          "output_type": "stream",
          "text": [
            "/usr/local/lib/python3.6/dist-packages/sklearn/linear_model/coordinate_descent.py:475: ConvergenceWarning: Objective did not converge. You might want to increase the number of iterations. Duality gap: 1071349.908321353, tolerance: 223.6617948717949\n",
            "  positive)\n"
          ],
          "name": "stderr"
        }
      ]
    },
    {
      "cell_type": "code",
      "metadata": {
        "id": "pauTvqwk6vVk",
        "colab_type": "code",
        "outputId": "ab84b3d1-a86f-4975-ed27-5654cde27c18",
        "colab": {
          "base_uri": "https://localhost:8080/",
          "height": 208
        }
      },
      "source": [
        "test_features = pd.read_csv('https://s3.amazonaws.com/drivendata/data/44/public/dengue_features_test.csv',\n",
        "                             index_col=[0,1,2])\n",
        "test_features.interpolate(inplace=True)\n",
        "test_features.drop('week_start_date', axis=1, inplace=True)\n",
        "scaler = StandardScaler()\n",
        "test_features[test_features.columns] = scaler.fit_transform(test_features)\n",
        "test_features.rolling(window=90,min_periods=1)\n",
        "sj_test_features = test_features.loc['sj']\n",
        "X_Select_test = sj_test_features.loc[:, rfe.support_]\n",
        "sj_pred = clf.predict(X_Select_test).astype(int)\n",
        "print(sj_pred)\n"
      ],
      "execution_count": 26,
      "outputs": [
        {
          "output_type": "stream",
          "text": [
            "[29 34 21 21 28 35 34 30 40 46 45 41 43 40 45 43 45 43 39 42 38 41 38 39\n",
            " 35 39 40 42 34 40 41 33 39 38 30 29 27 39 34 37 29 33 30 30 28 35 28 17\n",
            " 26 25 25 26 36 30 43 42 42 38 38 42 38 32 41 41 42 43 45 46 45 42 42 44\n",
            " 36 39 40 45 42 44 39 38 42 35 39 38 43 43 36 34 32 31 43 34 37 22 21 34\n",
            " 28 32 31 30 33 32 32 37 42 36 41 45 36 48 41 44 48 45 45 46 45 50 42 46\n",
            " 40 45 39 43 48 38 43 42 43 35 38 40 47 33 40 41 26 26 31 37 38 38 39 30\n",
            " 28 32 31 32 30 27 27 26 33 34 30 35 28 44 37 40 45 49 49 52 51 50 50 50\n",
            " 48 49 47 51 46 52 48 45 48 46 48 47 46 45 41 44 40 43 45 44 41 45 36 38\n",
            " 36 37 34 33 29 32 29 29 30 31 31 28 36 36 35 37 32 41 42 44 40 35 37 34\n",
            " 36 38 42 47 44 47 45 49 46 46 46 43 36 41 46 47 43 48 46 41 45 42 45 40\n",
            " 40 39 35 36 38 38 28 35 30 29 28 28 22 32 24 28 33 31 31 36]\n"
          ],
          "name": "stdout"
        }
      ]
    },
    {
      "cell_type": "code",
      "metadata": {
        "id": "5EFwLzjKbRau",
        "colab_type": "code",
        "outputId": "84122f6e-5df2-4b10-99b8-ba1e7b0912a1",
        "colab": {
          "base_uri": "https://localhost:8080/",
          "height": 89
        }
      },
      "source": [
        "from sklearn.feature_selection import RFE\n",
        "\n",
        "# create a base classifier used to evaluate a subset of attributes\n",
        "model = LinearRegression()\n",
        "\n",
        "# create the RFE model and select n attributes\n",
        "rfe = RFE(model, 4)\n",
        "rfe = rfe.fit(iq_train_features, iq_train_labels)\n",
        "X_Select = iq_train_features.loc[:, rfe.support_]\n",
        "# Split based on the newly selected features and train and test again\n",
        "X_train, X_test, Y_train, Y_test = train_test_split(X_Select, iq_train_labels, shuffle = False)\n",
        "model.fit(X_train, Y_train)\n",
        "Y_pred = model.predict(X_test)\n",
        "\n",
        "mean_absolute_error(Y_test, Y_pred)"
      ],
      "execution_count": 27,
      "outputs": [
        {
          "output_type": "stream",
          "text": [
            "/usr/local/lib/python3.6/dist-packages/sklearn/utils/validation.py:724: DataConversionWarning: A column-vector y was passed when a 1d array was expected. Please change the shape of y to (n_samples, ), for example using ravel().\n",
            "  y = column_or_1d(y, warn=True)\n"
          ],
          "name": "stderr"
        },
        {
          "output_type": "execute_result",
          "data": {
            "text/plain": [
              "7.8372963084632"
            ]
          },
          "metadata": {
            "tags": []
          },
          "execution_count": 27
        }
      ]
    },
    {
      "cell_type": "code",
      "metadata": {
        "id": "bX_YVpO4bayq",
        "colab_type": "code",
        "outputId": "6f06f6be-c111-4f7b-c5d1-bf7a7f1f4874",
        "colab": {
          "base_uri": "https://localhost:8080/",
          "height": 34
        }
      },
      "source": [
        "clf = linear_model.Lasso(alpha=0.5)\n",
        "clf.fit(X_train, Y_train)\n",
        "Y_pred = clf.predict(X_test)\n",
        "mean_absolute_error(Y_test, Y_pred)"
      ],
      "execution_count": 28,
      "outputs": [
        {
          "output_type": "execute_result",
          "data": {
            "text/plain": [
              "8.035810632959045"
            ]
          },
          "metadata": {
            "tags": []
          },
          "execution_count": 28
        }
      ]
    },
    {
      "cell_type": "code",
      "metadata": {
        "id": "iixYcgvxal_z",
        "colab_type": "code",
        "outputId": "883fa8ab-76f0-4d22-fd83-cb6e0abb7a2e",
        "colab": {
          "base_uri": "https://localhost:8080/",
          "height": 104
        }
      },
      "source": [
        "test_features = pd.read_csv('https://s3.amazonaws.com/drivendata/data/44/public/dengue_features_test.csv',\n",
        "                             index_col=[0,1,2])\n",
        "test_features.interpolate(inplace=True)\n",
        "test_features.drop('week_start_date', axis=1, inplace=True)\n",
        "scaler = StandardScaler()\n",
        "test_features[test_features.columns] = scaler.fit_transform(test_features)\n",
        "test_features.rolling(window=30,min_periods=1)\n",
        "iq_test_features = test_features.loc['iq']\n",
        "X_Select_test = iq_test_features.loc[:, rfe.support_]\n",
        "iq_pred = clf.predict(X_Select_test).astype(int)\n",
        "print(iq_pred)"
      ],
      "execution_count": 29,
      "outputs": [
        {
          "output_type": "stream",
          "text": [
            "[7 5 7 4 4 6 2 5 3 6 6 5 6 5 4 6 7 8 9 7 7 8 8 8 7 5 7 5 7 7 5 6 7 8 8 8 7\n",
            " 7 8 8 8 7 7 8 8 4 6 7 6 5 6 4 5 5 3 4 5 4 5 2 4 3 4 5 6 7 6 7 8 7 7 7 8 8\n",
            " 7 8 7 7 8 7 7 7 6 7 8 7 6 6 7 6 6 7 7 8 8 7 7 5 7 5 5 6 5 6 5 5 4 5 2 4 3\n",
            " 3 5 4 4 5 4 5 5 7 7 8 7 7 8 9 9 8 8 9 8 6 6 8 7 8 7 8 7 7 8 9 8 7 7 8 7 3\n",
            " 8 7 6 6 7 5 4 5]\n"
          ],
          "name": "stdout"
        }
      ]
    },
    {
      "cell_type": "code",
      "metadata": {
        "id": "LmqyzOFE9alc",
        "colab_type": "code",
        "outputId": "3fd9aed5-a012-498c-de66-c4959bf0a4cb",
        "colab": {
          "base_uri": "https://localhost:8080/",
          "height": 1000
        }
      },
      "source": [
        "submission = pd.read_csv(\"https://s3.amazonaws.com/drivendata/data/44/public/submission_format.csv\",\n",
        "                         index_col=[0, 1, 2])\n",
        "submission.total_cases = np.concatenate([sj_pred, iq_pred])\n",
        "print(submission)\n",
        "submission.to_csv(\"submission.csv\")\n",
        "from google.colab import files\n",
        "\n",
        "files.download('submission.csv')"
      ],
      "execution_count": 30,
      "outputs": [
        {
          "output_type": "stream",
          "text": [
            "                      total_cases\n",
            "city year weekofyear             \n",
            "sj   2008 18                   29\n",
            "          19                   34\n",
            "          20                   21\n",
            "          21                   21\n",
            "          22                   28\n",
            "          23                   35\n",
            "          24                   34\n",
            "          25                   30\n",
            "          26                   40\n",
            "          27                   46\n",
            "          28                   45\n",
            "          29                   41\n",
            "          30                   43\n",
            "          31                   40\n",
            "          32                   45\n",
            "          33                   43\n",
            "          34                   45\n",
            "          35                   43\n",
            "          36                   39\n",
            "          37                   42\n",
            "          38                   38\n",
            "          39                   41\n",
            "          40                   38\n",
            "          41                   39\n",
            "          42                   35\n",
            "          43                   39\n",
            "          44                   40\n",
            "          45                   42\n",
            "          46                   34\n",
            "          47                   40\n",
            "...                           ...\n",
            "iq   2012 48                    9\n",
            "          49                    8\n",
            "          50                    8\n",
            "          51                    9\n",
            "     2013 1                     8\n",
            "          2                     6\n",
            "          3                     6\n",
            "          4                     8\n",
            "          5                     7\n",
            "          6                     8\n",
            "          7                     7\n",
            "          8                     8\n",
            "          9                     7\n",
            "          10                    7\n",
            "          11                    8\n",
            "          12                    9\n",
            "          13                    8\n",
            "          14                    7\n",
            "          15                    7\n",
            "          16                    8\n",
            "          17                    7\n",
            "          18                    3\n",
            "          19                    8\n",
            "          20                    7\n",
            "          21                    6\n",
            "          22                    6\n",
            "          23                    7\n",
            "          24                    5\n",
            "          25                    4\n",
            "          26                    5\n",
            "\n",
            "[416 rows x 1 columns]\n"
          ],
          "name": "stdout"
        }
      ]
    }
  ]
}